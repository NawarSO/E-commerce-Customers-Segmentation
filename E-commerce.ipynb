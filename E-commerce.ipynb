{
 "cells": [
  {
   "cell_type": "code",
   "execution_count": null,
   "metadata": {},
   "outputs": [],
   "source": [
    "import pandas as pd\n",
    "import numpy as np"
   ]
  },
  {
   "cell_type": "code",
   "execution_count": null,
   "metadata": {},
   "outputs": [],
   "source": [
    "transactions = pd.read_excel(\"E-commerce_data.xlsx\",sheet_name=\"transactions\")\n",
    "customers = pd.read_excel(\"E-commerce_data.xlsx\",sheet_name=\"customers\")"
   ]
  },
  {
   "cell_type": "code",
   "execution_count": null,
   "metadata": {},
   "outputs": [],
   "source": [
    "customers"
   ]
  },
  {
   "cell_type": "code",
   "execution_count": null,
   "metadata": {},
   "outputs": [],
   "source": [
    "transactions.head()"
   ]
  },
  {
   "cell_type": "code",
   "execution_count": null,
   "metadata": {},
   "outputs": [],
   "source": [
    "transactions.tail()"
   ]
  },
  {
   "cell_type": "code",
   "execution_count": null,
   "metadata": {},
   "outputs": [],
   "source": [
    "transactions.shape"
   ]
  },
  {
   "cell_type": "code",
   "execution_count": null,
   "metadata": {},
   "outputs": [],
   "source": [
    "transactions.dtypes"
   ]
  },
  {
   "cell_type": "code",
   "execution_count": null,
   "metadata": {},
   "outputs": [],
   "source": [
    "transactions.describe()"
   ]
  },
  {
   "cell_type": "code",
   "execution_count": null,
   "metadata": {},
   "outputs": [],
   "source": [
    "transactions.isna().sum()"
   ]
  },
  {
   "cell_type": "code",
   "execution_count": null,
   "metadata": {},
   "outputs": [],
   "source": [
    "(transactions.isna().sum() * 100)/transactions.shape[0]"
   ]
  },
  {
   "cell_type": "code",
   "execution_count": null,
   "metadata": {},
   "outputs": [],
   "source": [
    "#add the city to the dataset\n",
    "transactions_test = transactions\n",
    "transactions_test[\"city_id\"] = \" \""
   ]
  },
  {
   "cell_type": "code",
   "execution_count": null,
   "metadata": {},
   "outputs": [],
   "source": [
    "#fill city column\n",
    "i = 0\n",
    "for value in transactions_test[\"customer_id\"]:\n",
    "    transactions_test[\"city_id\"][i] = customers[\"city_id\"][value-1]\n",
    "    i = i+1\n",
    "transactions_test"
   ]
  },
  {
   "cell_type": "code",
   "execution_count": null,
   "metadata": {},
   "outputs": [],
   "source": [
    "# encodel the transaction_status column burned = 1 , subscribed = 0\n",
    "i = 0\n",
    "for value in transactions_test[\"transaction_status\"]:\n",
    "    if(value == \"burned\"):\n",
    "        transactions_test[\"transaction_status\"][i] = 1\n",
    "    else:\n",
    "        transactions_test[\"transaction_status\"][i] = 0\n",
    "    i = i+1\n",
    "transactions_test\n",
    "\n"
   ]
  },
  {
   "cell_type": "code",
   "execution_count": null,
   "metadata": {},
   "outputs": [],
   "source": [
    "#add gender column\n",
    "transactions_test[\"gender_id\"] = 0\n",
    "transactions_test"
   ]
  },
  {
   "cell_type": "code",
   "execution_count": null,
   "metadata": {},
   "outputs": [],
   "source": [
    "#fill gender column\n",
    "i = 0\n",
    "for value in transactions_test[\"customer_id\"]:\n",
    "    transactions_test[\"gender_id\"][i] = customers[\"gender_id\"][value-1]\n",
    "    i = i+1\n",
    "transactions_test"
   ]
  },
  {
   "cell_type": "code",
   "execution_count": null,
   "metadata": {},
   "outputs": [],
   "source": [
    "#create coupon_usage in customers table\n",
    "customers[\"coupon_usage\"] = 0\n",
    "customers"
   ]
  },
  {
   "cell_type": "code",
   "execution_count": null,
   "metadata": {},
   "outputs": [],
   "source": [
    "#add coupon usage to customer table \n",
    "ind = transactions_test[\"customer_id\"].value_counts().index\n",
    "v = (transactions_test[\"customer_id\"].value_counts()).values\n",
    "i = 0\n",
    "for value in ind:\n",
    "    customers[\"coupon_usage\"][value-1] = v[i]\n",
    "    i= i+1\n",
    "customers"
   ]
  },
  {
   "cell_type": "code",
   "execution_count": null,
   "metadata": {},
   "outputs": [],
   "source": [
    "#add and fill coupon usage to transactions table\n",
    "transactions_test[\"coupon_usage\"] = 0\n",
    "i = 0\n",
    "for value in transactions_test[\"customer_id\"] :\n",
    "    transactions_test[\"coupon_usage\"][i] = customers[\"coupon_usage\"][value -1] \n",
    "    i = i+1\n",
    "transactions_test"
   ]
  },
  {
   "cell_type": "code",
   "execution_count": null,
   "metadata": {},
   "outputs": [],
   "source": [
    "import seaborn as sns\n",
    "import matplotlib.pyplot as plt"
   ]
  },
  {
   "cell_type": "code",
   "execution_count": null,
   "metadata": {},
   "outputs": [],
   "source": [
    "#feature selection & find the correlation\n",
    "transactions_corr = transactions_test.drop(columns=[\"customer_id\",\"transaction_date\",\"transaction_id\",\"coupon_name\",\"burn_date\"]) \n",
    "transactions_corr.corr()"
   ]
  },
  {
   "cell_type": "code",
   "execution_count": null,
   "metadata": {},
   "outputs": [],
   "source": [
    "#check if there are outliers \n",
    "for col in transactions_corr.columns:\n",
    "    q1 = transactions_corr[col].quantile(0.25)\n",
    "    q3 = transactions_corr[col].quantile(0.75)\n",
    "    IQR = q3- q1\n",
    "    lower_limit = q1 - 1.5*IQR\n",
    "    upper_limit = q3 + 1.5*IQR\n",
    "    print(\"the outliers for \", col)\n",
    "    print(\"the upper_limit = \",upper_limit,\"the lower_limit = \",lower_limit)\n",
    "    print(\"\\n\")"
   ]
  },
  {
   "cell_type": "code",
   "execution_count": null,
   "metadata": {},
   "outputs": [],
   "source": [
    "transactions_corr.dtypes"
   ]
  },
  {
   "cell_type": "code",
   "execution_count": null,
   "metadata": {},
   "outputs": [],
   "source": [
    "transactions_corr[\"transaction_status\"] = transactions_corr.transaction_status.astype(str).astype(int)\n",
    "transactions_corr[\"city_id\"] = transactions_corr[\"city_id\"].astype(str).astype(int)"
   ]
  },
  {
   "cell_type": "code",
   "execution_count": null,
   "metadata": {},
   "outputs": [],
   "source": [
    "transactions_corr.dtypes"
   ]
  },
  {
   "cell_type": "markdown",
   "metadata": {},
   "source": [
    "The outliers are very low and they are in the coupon usage column so we don't need to remove them"
   ]
  },
  {
   "cell_type": "code",
   "execution_count": null,
   "metadata": {},
   "outputs": [],
   "source": [
    "sns.relplot(x = \"transaction_status\", y = \"coupon_usage\",hue=\"gender_id\",data=transactions_corr[:5000])"
   ]
  },
  {
   "cell_type": "code",
   "execution_count": null,
   "metadata": {},
   "outputs": [],
   "source": [
    "sns.relplot(x = \"city_id\", y = \"branch_id\",hue=\"coupon_usage\",data=transactions_corr[:5000])"
   ]
  },
  {
   "cell_type": "code",
   "execution_count": null,
   "metadata": {},
   "outputs": [],
   "source": [
    "sns.relplot(x = \"coupon_usage\", y = \"gender_id\",hue=\"transaction_status\",data=transactions_corr[:5000])"
   ]
  },
  {
   "cell_type": "code",
   "execution_count": null,
   "metadata": {},
   "outputs": [],
   "source": [
    "from sklearn.cluster import KMeans\n",
    "from sklearn.preprocessing import StandardScaler"
   ]
  },
  {
   "cell_type": "code",
   "execution_count": null,
   "metadata": {},
   "outputs": [],
   "source": [
    "X = transactions_corr\n",
    "X"
   ]
  },
  {
   "cell_type": "code",
   "execution_count": null,
   "metadata": {},
   "outputs": [],
   "source": [
    "# Elbow method.\n",
    "X_k = transactions_corr.iloc[:, [0,4]]# transaction status with coupon usage\n",
    "Z_k = transactions_corr.iloc[:,[2,4]] # city id with coupon usage \n",
    "A_k = transactions_corr.iloc[:,[3,4] ] # gender id , coupon usage\n",
    "scaler = StandardScaler()\n",
    "X_scaled = scaler.fit_transform(X_k)\n",
    "Z_scaled = scaler.fit_transform(Z_k)\n",
    "A_scaled= scaler.fit_transform(A_k)\n",
    "wsse = []\n",
    "for k in range(1,10):    #X_k\n",
    "    kmeans = KMeans(n_clusters=k,random_state=40)\n",
    "    kmeans.fit(X_scaled)\n",
    "    wsse.append(kmeans.inertia_)\n",
    "wsse2 = []\n",
    "for k1 in range(1,10):    #Y_k\n",
    "    kmeans2 = KMeans(n_clusters=k1,random_state=40)\n",
    "    kmeans2.fit(X_scaled)\n",
    "    wsse2.append(kmeans2.inertia_)\n",
    "\n",
    "wsse3 = []\n",
    "for k3 in range(1,10):    #Z_k\n",
    "    kmeans3 = KMeans(n_clusters=k3,random_state=40)\n",
    "    kmeans3.fit(X_scaled)\n",
    "    wsse3.append(kmeans3.inertia_)\n",
    "\n",
    "plt.figure(figsize=(12, 6))\n",
    "\n",
    "plt.subplot(223)\n",
    "plt.plot(range(1,10),wsse,marker = \"x\")\n",
    "plt.title('elbow method')\n",
    "plt.xlabel(\"Number of clusters\")\n",
    "plt.ylabel(\"wsse\")\n",
    "\n",
    "plt.subplot(211)\n",
    "plt.plot(range(1,10),wsse2,marker = \"x\")\n",
    "plt.title('elbow method')\n",
    "plt.xlabel(\"Number of clusters\")\n",
    "plt.ylabel(\"wsse2\")\n",
    "plt.subplot(224)\n",
    "plt.plot(range(1,10),wsse3,marker = \"x\")\n",
    "plt.title('elbow method')\n",
    "plt.ylabel(\"wsse3\")\n",
    "plt.xlabel(\"Number of clusters\")\n",
    "\n",
    "plt.tight_layout()\n",
    "plt.show()"
   ]
  },
  {
   "cell_type": "markdown",
   "metadata": {},
   "source": [
    "so the Kmean = 4"
   ]
  },
  {
   "cell_type": "code",
   "execution_count": null,
   "metadata": {},
   "outputs": [],
   "source": [
    "# Train the model\n",
    "kmeans = KMeans(n_clusters=4,random_state=42)\n",
    "kmeans.fit(X_k)\n",
    "X_pred = kmeans.predict(X_k)\n",
    "transactions_corr[\"cluster_x\"] = kmeans.labels_\n",
    "\n",
    "kmeans2 = KMeans(n_clusters=4,random_state=42)\n",
    "kmeans2.fit(Z_k)\n",
    "Z_pred = kmeans2.predict(Z_k)\n",
    "transactions_corr[\"cluster_z\"] = kmeans2.labels_\n",
    "\n",
    "\n",
    "kmeans3 = KMeans(n_clusters=4,random_state=42)\n",
    "kmeans3.fit(A_k)\n",
    "A_pred = kmeans3.predict(A_k)\n",
    "transactions_corr[\"cluster_a\"] = kmeans3.labels_"
   ]
  },
  {
   "cell_type": "code",
   "execution_count": null,
   "metadata": {},
   "outputs": [],
   "source": [
    "plt.figure(figsize=(12, 6))\n",
    "\n",
    "plt.subplot(223)\n",
    "plt.scatter(X_k[\"transaction_status\"],X_k[\"coupon_usage\"], c=transactions_corr['cluster_x'], cmap='viridis')\n",
    "plt.title('K-means Clustering')\n",
    "plt.xlabel('transaction_status')\n",
    "plt.ylabel('coupon_usage')\n",
    "\n",
    "plt.subplot(211)\n",
    "plt.scatter(Z_k['city_id'], Z_k['coupon_usage'], c=transactions_corr['cluster_z'], cmap='viridis')\n",
    "plt.title('K-means Clustering')\n",
    "plt.xlabel('city_id')\n",
    "plt.ylabel('coupon_usage')\n",
    "plt.subplot(224)\n",
    "plt.scatter(A_k['gender_id'], A_k['coupon_usage'], c=transactions_corr['cluster_a'], cmap='viridis')\n",
    "plt.title('K-means Clustering')\n",
    "plt.ylabel('coupon_usage')\n",
    "plt.xlabel('gender_id')\n",
    "\n",
    "plt.tight_layout()\n",
    "plt.show()"
   ]
  },
  {
   "cell_type": "code",
   "execution_count": null,
   "metadata": {},
   "outputs": [],
   "source": [
    "# evaluate the model\n",
    "from sklearn.metrics import silhouette_score\n",
    "print(silhouette_score(X_scaled,X_pred))\n",
    "print(silhouette_score(Z_scaled,Z_pred))\n",
    "print(silhouette_score(A_scaled,A_pred))\n"
   ]
  },
  {
   "cell_type": "markdown",
   "metadata": {},
   "source": [
    "# explain the Kmeans cluster here.\n",
    "Based on silhouette score we can see that : the model is not good and that because of the data and the k-means model is not the best model for this data.\n",
    "\n",
    "so based on the k-means :\n",
    "in the K-means clustering X: transaction status Y: coupon usage we have 4 clusters \n",
    "blue: they are the most loyalty customers and we must to get them more coupons because they have attention to the products so we must to keep it.\n",
    "purple: they are the second loyalty customers and if they get more coupons, there are big probability to become loyalty customers.\n",
    "green: they don't have big attention to the products.\n",
    "yellow: I suggest to stop giving them.\n",
    "The same thing applies on the another clustering X:gender id, Y: coupon usage.\n",
    "# Note for gender id {1: Male , 2:Female}.\n",
    "# Note2 : as we said the model is not good so we can't depend on it."
   ]
  },
  {
   "cell_type": "markdown",
   "metadata": {},
   "source": [
    "///////////////////////////////////////////"
   ]
  },
  {
   "cell_type": "markdown",
   "metadata": {},
   "source": [
    "# DBSCAN:"
   ]
  },
  {
   "cell_type": "code",
   "execution_count": null,
   "metadata": {},
   "outputs": [],
   "source": [
    "from sklearn.cluster import DBSCAN\n",
    "from sklearn.preprocessing import StandardScaler\n",
    "\n",
    "# Create feature matrix\n",
    "Y = transactions_corr.iloc[:, [0,4]]# transaction status with coupon usage\n",
    "Z = transactions_corr.iloc[:,[2,4]] # city id with coupon usage \n",
    "A = transactions_corr.iloc[:,[3,4] ] # gender id , coupon usage\n",
    "\n",
    "# Standardize the features\n",
    "scaler = StandardScaler()\n",
    "Y_scaled = scaler.fit_transform(Y)\n",
    "Z_scaled = scaler.fit_transform(Z)\n",
    "A_scaled= scaler.fit_transform(A)\n",
    "\n",
    "\n",
    "\n",
    "# DBSCAN clustering\n",
    "dbscan = DBSCAN(eps=0.5, min_samples=5)\n",
    "Y_clusters = dbscan.fit_predict(Y_scaled)\n",
    "Z_clusters = dbscan.fit_predict(Z_scaled)\n",
    "A_clusters = dbscan.fit_predict(A_scaled)\n",
    "\n"
   ]
  },
  {
   "cell_type": "code",
   "execution_count": null,
   "metadata": {},
   "outputs": [],
   "source": [
    "plt.figure(figsize=(12, 6))\n",
    "\n",
    "plt.subplot(223)\n",
    "plt.scatter(Y[\"transaction_status\"],Y['coupon_usage'], c=Y_clusters, cmap='viridis',s=50)\n",
    "plt.title('DBSCAN')\n",
    "plt.xlabel('transaction_status')\n",
    "plt.ylabel('coupon_usage')\n",
    "\n",
    "plt.subplot(211)\n",
    "plt.scatter(Z['city_id'], Z['coupon_usage'], c=Z_clusters, cmap='viridis',s=50)\n",
    "plt.title('DBSCAN')\n",
    "plt.xlabel('city_id')\n",
    "plt.ylabel('coupon_usage')\n",
    "plt.subplot(224)\n",
    "plt.scatter(A['gender_id'], A['coupon_usage'], c=A_clusters, cmap='viridis',s=50)\n",
    "plt.title('DBSCAN')\n",
    "plt.xlabel('gender_id')\n",
    "plt.ylabel('coupon_usage')\n",
    "\n",
    "plt.tight_layout()\n",
    "plt.show()"
   ]
  },
  {
   "cell_type": "code",
   "execution_count": null,
   "metadata": {},
   "outputs": [],
   "source": [
    "from sklearn import metrics\n",
    "print(metrics.silhouette_score(Y_scaled, Y_clusters))\n",
    "print(metrics.silhouette_score(Z_scaled, Z_clusters))\n",
    "print(metrics.silhouette_score(A_scaled, A_clusters))"
   ]
  },
  {
   "cell_type": "markdown",
   "metadata": {},
   "source": [
    "# DBSCAN analysis and explaining :\n",
    "Based on silhouette_score we can see : \n",
    "the clustering based on transaction status and coupon usage , gender id and coupon usage is better than city id and  coupon usage .\n",
    "so:\n",
    "the clustering based on transaction status and coupon usage :\n",
    "we have 2 clusters\n",
    "purple : the people who take coupons but didn't use it yet I recommend to stop get them more coupons ,we can get them more coupons when transaction status be burned in this way we can know they will become customers .\n",
    "yellow : the people who already loyalty customers we must to give them more coupons to keep them royalty.\n",
    "\n",
    "the seconde clustering that based on the gender and coupon usage note: 1 : male , 2 : female\n",
    "we can see that there are 3 clusters :\n",
    "blue : it is the male customers.\n",
    "purple : it is the female clusters.\n",
    "yellow : it is also female cluster but they use more than 12 coupon.\n",
    "\n",
    "the clustering based on the cities and coupon usage :\n",
    "we can see 4 clusters \n",
    "purple: it is the most common cluster \n",
    "green : it is only one point and it is the most loyalty customers in their city.\n",
    "yellow : it is only one point and it is the most loyalty customers in their city.\n",
    "blue: it is only one point and it is the most loyalty customers in their city.\n",
    "\n"
   ]
  },
  {
   "cell_type": "markdown",
   "metadata": {},
   "source": [
    "# That was every thing thank you.\n",
    "# ＜（＾－＾）＞"
   ]
  }
 ],
 "metadata": {
  "kernelspec": {
   "display_name": "Python 3",
   "language": "python",
   "name": "python3"
  },
  "language_info": {
   "codemirror_mode": {
    "name": "ipython",
    "version": 3
   },
   "file_extension": ".py",
   "mimetype": "text/x-python",
   "name": "python",
   "nbconvert_exporter": "python",
   "pygments_lexer": "ipython3",
   "version": "3.11.3"
  }
 },
 "nbformat": 4,
 "nbformat_minor": 2
}
